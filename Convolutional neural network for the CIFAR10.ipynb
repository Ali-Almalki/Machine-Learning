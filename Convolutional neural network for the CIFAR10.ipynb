{
  "nbformat": 4,
  "nbformat_minor": 0,
  "metadata": {
    "colab": {
      "name": "ML-Project-2.ipynb",
      "version": "0.3.2",
      "provenance": []
    },
    "kernelspec": {
      "name": "python3",
      "display_name": "Python 3"
    },
    "accelerator": "GPU"
  },
  "cells": [
    {
      "metadata": {
        "id": "UdH3HbECr0qh",
        "colab_type": "code",
        "outputId": "96dec723-b915-4ee1-c7bf-be699f275d56",
        "colab": {
          "base_uri": "https://localhost:8080/",
          "height": 34
        }
      },
      "cell_type": "code",
      "source": [
        "from keras.datasets import cifar10\n",
        "\n",
        "(train_images, train_labels), (test_images, test_labels) = cifar10.load_data()"
      ],
      "execution_count": 0,
      "outputs": [
        {
          "output_type": "stream",
          "text": [
            "Using TensorFlow backend.\n"
          ],
          "name": "stderr"
        }
      ]
    },
    {
      "metadata": {
        "id": "ZWKb_nucr_5C",
        "colab_type": "code",
        "colab": {}
      },
      "cell_type": "code",
      "source": [
        ""
      ],
      "execution_count": 0,
      "outputs": []
    },
    {
      "metadata": {
        "id": "CO3hPa2csJ6N",
        "colab_type": "text"
      },
      "cell_type": "markdown",
      "source": [
        "**Load of DataSet Data is divided in:**\n",
        "\n",
        "Training set (80%)\n",
        "Validation set (20%)\n",
        "Testing set\n",
        "\n",
        "The label classes in the dataset are:\n",
        "\n",
        "airplane,\n",
        "automobile,\n",
        "bird,\n",
        "cat,\n",
        "deer,\n",
        "dog,\n",
        "frog,\n",
        "horse,\n",
        "ship,\n",
        "truck, "
      ]
    },
    {
      "metadata": {
        "id": "xU6gQCppsKkI",
        "colab_type": "code",
        "colab": {}
      },
      "cell_type": "code",
      "source": [
        "import numpy as np\n",
        "import keras\n",
        "from matplotlib import pyplot\n",
        "from PIL import Image\n",
        "from keras.models import Sequential\n",
        "from keras.utils import np_utils\n",
        "from keras.preprocessing.image import ImageDataGenerator\n",
        "from keras.layers import Dense, Activation, Flatten, Dropout, BatchNormalization\n",
        "from keras.layers import Conv2D, MaxPooling2D\n",
        "from keras.datasets import cifar10\n",
        "from keras import regularizers\n",
        "from keras.callbacks import LearningRateScheduler\n",
        "from sklearn.model_selection import train_test_split\n",
        "\n"
      ],
      "execution_count": 0,
      "outputs": []
    },
    {
      "metadata": {
        "id": "CuOTMkqdsNk5",
        "colab_type": "code",
        "colab": {}
      },
      "cell_type": "code",
      "source": [
        "\n",
        "def show_imgs(X):\n",
        "    pyplot.figure(1)\n",
        "    k = 0\n",
        "    for i in range(0,4):\n",
        "        for j in range(0,4):\n",
        "            pyplot.subplot2grid((4,4),(i,j))\n",
        "            pyplot.imshow(Image.fromarray(X[k]))\n",
        "            k = k+1\n",
        "    # show the plot\n",
        "    pyplot.show()\n",
        "\n",
        "def lr_schedule(epoch):\n",
        "    lrate = 0.001\n",
        "    if epoch > 75:\n",
        "        lrate = 0.0005\n",
        "    if epoch > 100:\n",
        "        lrate = 0.0003\n",
        "    return lrate\n",
        "\n",
        "\n"
      ],
      "execution_count": 0,
      "outputs": []
    },
    {
      "metadata": {
        "id": "WSWH0tR6sP6Y",
        "colab_type": "code",
        "outputId": "d1a27430-9104-4d5c-bde3-f266857967cc",
        "colab": {
          "base_uri": "https://localhost:8080/",
          "height": 384
        }
      },
      "cell_type": "code",
      "source": [
        "# Load the data\n",
        "(X_train, Y_train), (X_test, Y_test) = cifar10.load_data()\n",
        "x_c= np.concatenate((X_train,X_test),axis=0)\n",
        "y_c= np.concatenate((Y_train,Y_test),axis=0)\n",
        "\n",
        "x_train, x_test, y_train, y_test = train_test_split(x_c, y_c,\n",
        "                                                    test_size=0.2, \n",
        "                                                    random_state=1)\n",
        "show_imgs(x_test[:16])\n",
        "\n",
        "print(\"Training Set:\" + str(x_train.shape[0]*100/(x_train.shape[0]+x_test.shape[0])))\n",
        "print(\"Validation Set:\" + str(x_test.shape[0]*100/(x_train.shape[0]+x_test.shape[0])))\n",
        "\n",
        "x_train = x_train.astype('float32')\n",
        "x_test = x_test.astype('float32')   \n",
        "\n",
        "\n",
        "#z-score\n",
        "mean = np.mean(x_train,axis=(0,1,2,3))\n",
        "std = np.std(x_train,axis=(0,1,2,3))\n",
        "x_train = (x_train-mean)/(std+1e-7)\n",
        "x_test = (x_test-mean)/(std+1e-7)\n",
        "\n",
        "\n",
        "num_classes = 10\n",
        "y_train = np_utils.to_categorical(y_train,num_classes)\n",
        "y_test = np_utils.to_categorical(y_test,num_classes)\n",
        "\n"
      ],
      "execution_count": 0,
      "outputs": [
        {
          "output_type": "display_data",
          "data": {
            "image/png": "[encoded data removed]",
            "text/plain": [
              "<Figure size 576x396 with 16 Axes>"
            ]
          },
          "metadata": {
            "tags": []
          }
        },
        {
          "output_type": "stream",
          "text": [
            "Training Set:80.0\n",
            "Validation Set:20.0\n"
          ],
          "name": "stdout"
        }
      ]
    },
    {
      "metadata": {
        "id": "naoB6ywDsSpR",
        "colab_type": "code",
        "colab": {}
      },
      "cell_type": "code",
      "source": [
        ""
      ],
      "execution_count": 0,
      "outputs": []
    },
    {
      "metadata": {
        "id": "XunK-mC1sW49",
        "colab_type": "text"
      },
      "cell_type": "markdown",
      "source": [
        "# Simple hold-out validation\n",
        "\n",
        "## Data augmentation\n",
        "\n",
        "First,  it's created a \"model_1\", which contains 4 convolutional layers, a kernel of size (3,3) and maxpooling of size(2,2). Then the model_1 is evaluated with and without using data augmentation."
      ]
    },
    {
      "metadata": {
        "id": "hb6f9L8EsXhw",
        "colab_type": "code",
        "outputId": "58b9c720-e2ef-44e4-f1be-344ca78093a4",
        "colab": {
          "base_uri": "https://localhost:8080/",
          "height": 462
        }
      },
      "cell_type": "code",
      "source": [
        "weight_decay = 1e-4\n",
        "\n",
        "## model_1\n",
        "#Conv Layer 1\n",
        "model_1 = Sequential()\n",
        "model_1.add(Conv2D(32, (3,3), padding='same', kernel_regularizer=regularizers.l2(weight_decay), input_shape=x_train.shape[1:]))\n",
        "model_1.add(Activation('elu'))\n",
        "\n",
        "#Conv Layer 2\n",
        "model_1.add(Conv2D(32, (3,3), padding='same', kernel_regularizer=regularizers.l2(weight_decay)))\n",
        "model_1.add(Activation('elu'))\n",
        "model_1.add(MaxPooling2D(pool_size=(2,2)))\n",
        " \n",
        "model_1.add(Flatten())\n",
        "model_1.add(Dense(num_classes, activation='softmax'))\n",
        "\n",
        "print(\"model_1 summary\")\n",
        "model_1.summary()"
      ],
      "execution_count": 0,
      "outputs": [
        {
          "output_type": "stream",
          "text": [
            "WARNING:tensorflow:From /usr/local/lib/python3.6/dist-packages/tensorflow/python/framework/op_def_library.py:263: colocate_with (from tensorflow.python.framework.ops) is deprecated and will be removed in a future version.\n",
            "Instructions for updating:\n",
            "Colocations handled automatically by placer.\n",
            "model_1 summary\n",
            "_________________________________________________________________\n",
            "Layer (type)                 Output Shape              Param #   \n",
            "=================================================================\n",
            "conv2d_1 (Conv2D)            (None, 32, 32, 32)        896       \n",
            "_________________________________________________________________\n",
            "activation_1 (Activation)    (None, 32, 32, 32)        0         \n",
            "_________________________________________________________________\n",
            "conv2d_2 (Conv2D)            (None, 32, 32, 32)        9248      \n",
            "_________________________________________________________________\n",
            "activation_2 (Activation)    (None, 32, 32, 32)        0         \n",
            "_________________________________________________________________\n",
            "max_pooling2d_1 (MaxPooling2 (None, 16, 16, 32)        0         \n",
            "_________________________________________________________________\n",
            "flatten_1 (Flatten)          (None, 8192)              0         \n",
            "_________________________________________________________________\n",
            "dense_1 (Dense)              (None, 10)                81930     \n",
            "=================================================================\n",
            "Total params: 92,074\n",
            "Trainable params: 92,074\n",
            "Non-trainable params: 0\n",
            "_________________________________________________________________\n"
          ],
          "name": "stdout"
        }
      ]
    },
    {
      "metadata": {
        "id": "qKzEZV0TsaGQ",
        "colab_type": "code",
        "outputId": "da0123b4-0678-4e6b-9375-81c32a52b509",
        "colab": {
          "base_uri": "https://localhost:8080/",
          "height": 530
        }
      },
      "cell_type": "code",
      "source": [
        "#Training\n",
        "batch_size = 10\n",
        "epochs = 10\n",
        "epoch_size=100\n",
        "opt_rms = keras.optimizers.rmsprop(lr=0.001,decay=1e-6)\n",
        "\n",
        "model_1.compile(loss='categorical_crossentropy', optimizer=opt_rms, metrics=['accuracy'])\n",
        "history = model_1.fit(x_train, \n",
        "                      y_train,\n",
        "                      validation_split=0.2, \n",
        "                      epochs=epochs, \n",
        "                      batch_size=batch_size, \n",
        "                      verbose=0) \n",
        "\n",
        "#Evaluate\n",
        "scores_1 = model_1.evaluate(x_test, y_test, batch_size=batch_size, verbose=1)\n",
        "\n",
        "\n",
        "\n",
        "#Data augmentation\n",
        "datagen_2 = ImageDataGenerator()\n",
        "datagen_2.fit(x_train)\n",
        "\n",
        "#Training\n",
        "#model_1 with data augmentation\n",
        "model_1.compile(loss='categorical_crossentropy', optimizer=opt_rms, metrics=['accuracy'])\n",
        "model_1.fit_generator(datagen_2.flow(x_train, y_train, batch_size=batch_size),\\\n",
        "                    steps_per_epoch=epochs*epoch_size // batch_size,epochs=epochs,\\\n",
        "                    verbose=1,validation_data=(x_test,y_test),callbacks=[LearningRateScheduler(lr_schedule)])\n",
        "\n",
        "#Evaluate\n",
        "scores_2 = model_1.evaluate(x_test, y_test, batch_size=batch_size, verbose=1)\n",
        "\n",
        "print('\\nTest without data augmentation: %.3f loss: %.3f' % (scores_1[1]*100,scores_1[0]))\n",
        "print('\\nTest  with data augmentation: %.3f loss: %.3f' % (scores_2[1]*100,scores_2[0]))"
      ],
      "execution_count": 0,
      "outputs": [
        {
          "output_type": "stream",
          "text": [
            "WARNING:tensorflow:From /usr/local/lib/python3.6/dist-packages/tensorflow/python/ops/math_ops.py:3066: to_int32 (from tensorflow.python.ops.math_ops) is deprecated and will be removed in a future version.\n",
            "Instructions for updating:\n",
            "Use tf.cast instead.\n",
            "12000/12000 [==============================] - 3s 226us/step\n",
            "Epoch 1/10\n",
            "100/100 [==============================] - 3s 33ms/step - loss: 0.8545 - acc: 0.7360 - val_loss: 1.4890 - val_acc: 0.5989\n",
            "Epoch 2/10\n",
            "100/100 [==============================] - 3s 31ms/step - loss: 0.7948 - acc: 0.7630 - val_loss: 1.5720 - val_acc: 0.5873\n",
            "Epoch 3/10\n",
            "100/100 [==============================] - 3s 31ms/step - loss: 0.8052 - acc: 0.7600 - val_loss: 1.5347 - val_acc: 0.5902\n",
            "Epoch 4/10\n",
            "100/100 [==============================] - 3s 31ms/step - loss: 0.8139 - acc: 0.7490 - val_loss: 1.5056 - val_acc: 0.5892\n",
            "Epoch 5/10\n",
            "100/100 [==============================] - 3s 31ms/step - loss: 0.8060 - acc: 0.7620 - val_loss: 1.5888 - val_acc: 0.5803\n",
            "Epoch 6/10\n",
            "100/100 [==============================] - 3s 31ms/step - loss: 0.7915 - acc: 0.7600 - val_loss: 1.5893 - val_acc: 0.5825\n",
            "Epoch 7/10\n",
            "100/100 [==============================] - 3s 31ms/step - loss: 0.8285 - acc: 0.7520 - val_loss: 1.4866 - val_acc: 0.5987\n",
            "Epoch 8/10\n",
            "100/100 [==============================] - 3s 32ms/step - loss: 0.8659 - acc: 0.7470 - val_loss: 1.4852 - val_acc: 0.5969\n",
            "Epoch 9/10\n",
            "100/100 [==============================] - 3s 32ms/step - loss: 0.8420 - acc: 0.7220 - val_loss: 1.5249 - val_acc: 0.5898\n",
            "Epoch 10/10\n",
            "100/100 [==============================] - 3s 32ms/step - loss: 0.8429 - acc: 0.7280 - val_loss: 1.5233 - val_acc: 0.5923\n",
            "12000/12000 [==============================] - 3s 229us/step\n",
            "\n",
            "Test without data augmentation: 58.425 loss: 1.557\n",
            "\n",
            "Test  with data augmentation: 59.225 loss: 1.523\n"
          ],
          "name": "stdout"
        }
      ]
    },
    {
      "metadata": {
        "id": "hSLRclaIsdG5",
        "colab_type": "code",
        "colab": {}
      },
      "cell_type": "code",
      "source": [
        ""
      ],
      "execution_count": 0,
      "outputs": []
    },
    {
      "metadata": {
        "id": "x33Cg8Rjt5f4",
        "colab_type": "text"
      },
      "cell_type": "markdown",
      "source": [
        "## Dropout \n",
        "\n",
        "The following two models contain 2 convolutional layers, a kernel of size (3,3); maxpooling of size(2,2) and a data augmentation. The difference between the two models is:\n",
        "\n",
        "*   model_2: dropout rate=0.2\n",
        "*   model_3: dropout rate=0.5"
      ]
    },
    {
      "metadata": {
        "id": "0UhzFXRXt7rL",
        "colab_type": "code",
        "outputId": "6b26bb43-93ae-44e7-f2a1-164514b77915",
        "colab": {
          "base_uri": "https://localhost:8080/",
          "height": 938
        }
      },
      "cell_type": "code",
      "source": [
        "## model_2 -> without dropout\n",
        "#Conv Layer 1\n",
        "model_2 = Sequential()\n",
        "model_2.add(Conv2D(32, (3,3), padding='same', kernel_regularizer=regularizers.l2(weight_decay), input_shape=x_train.shape[1:]))\n",
        "model_2.add(Activation('elu'))\n",
        "\n",
        "#Conv Layer 2\n",
        "model_2.add(Conv2D(32, (3,3), padding='same', kernel_regularizer=regularizers.l2(weight_decay)))\n",
        "model_2.add(Activation('elu'))\n",
        "model_2.add(MaxPooling2D(pool_size=(2,2)))\n",
        "model_2.add(Dropout(0.2))\n",
        "\n",
        "\n",
        "model_2.add(Flatten())\n",
        "model_2.add(Dense(num_classes, activation='softmax'))\n",
        "\n",
        "print(\"\\nmodel_2 summary:\")\n",
        "model_2.summary()\n",
        "\n",
        "## model_3 -> with dropout\n",
        "#Conv Layer 1\n",
        "model_3 = Sequential()\n",
        "model_3.add(Conv2D(32, (3,3), padding='same', kernel_regularizer=regularizers.l2(weight_decay), input_shape=x_train.shape[1:]))\n",
        "model_3.add(Activation('elu'))\n",
        "\n",
        "#Conv Layer 2\n",
        "model_3.add(Conv2D(32, (3,3), padding='same', kernel_regularizer=regularizers.l2(weight_decay)))\n",
        "model_3.add(Activation('elu'))\n",
        "model_3.add(MaxPooling2D(pool_size=(2,2)))\n",
        "model_3.add(Dropout(0.5))\n",
        "\n",
        "model_3.add(Flatten())\n",
        "model_3.add(Dense(num_classes, activation='softmax'))\n",
        "\n",
        "print(\"\\nmodel_3 summary:\")\n",
        "model_3.summary()"
      ],
      "execution_count": 0,
      "outputs": [
        {
          "output_type": "stream",
          "text": [
            "WARNING:tensorflow:From /usr/local/lib/python3.6/dist-packages/keras/backend/tensorflow_backend.py:3445: calling dropout (from tensorflow.python.ops.nn_ops) with keep_prob is deprecated and will be removed in a future version.\n",
            "Instructions for updating:\n",
            "Please use `rate` instead of `keep_prob`. Rate should be set to `rate = 1 - keep_prob`.\n",
            "\n",
            "model_2 summary:\n",
            "_________________________________________________________________\n",
            "Layer (type)                 Output Shape              Param #   \n",
            "=================================================================\n",
            "conv2d_3 (Conv2D)            (None, 32, 32, 32)        896       \n",
            "_________________________________________________________________\n",
            "activation_3 (Activation)    (None, 32, 32, 32)        0         \n",
            "_________________________________________________________________\n",
            "conv2d_4 (Conv2D)            (None, 32, 32, 32)        9248      \n",
            "_________________________________________________________________\n",
            "activation_4 (Activation)    (None, 32, 32, 32)        0         \n",
            "_________________________________________________________________\n",
            "max_pooling2d_2 (MaxPooling2 (None, 16, 16, 32)        0         \n",
            "_________________________________________________________________\n",
            "dropout_1 (Dropout)          (None, 16, 16, 32)        0         \n",
            "_________________________________________________________________\n",
            "flatten_2 (Flatten)          (None, 8192)              0         \n",
            "_________________________________________________________________\n",
            "dense_2 (Dense)              (None, 10)                81930     \n",
            "=================================================================\n",
            "Total params: 92,074\n",
            "Trainable params: 92,074\n",
            "Non-trainable params: 0\n",
            "_________________________________________________________________\n",
            "\n",
            "model_3 summary:\n",
            "_________________________________________________________________\n",
            "Layer (type)                 Output Shape              Param #   \n",
            "=================================================================\n",
            "conv2d_5 (Conv2D)            (None, 32, 32, 32)        896       \n",
            "_________________________________________________________________\n",
            "activation_5 (Activation)    (None, 32, 32, 32)        0         \n",
            "_________________________________________________________________\n",
            "conv2d_6 (Conv2D)            (None, 32, 32, 32)        9248      \n",
            "_________________________________________________________________\n",
            "activation_6 (Activation)    (None, 32, 32, 32)        0         \n",
            "_________________________________________________________________\n",
            "max_pooling2d_3 (MaxPooling2 (None, 16, 16, 32)        0         \n",
            "_________________________________________________________________\n",
            "dropout_2 (Dropout)          (None, 16, 16, 32)        0         \n",
            "_________________________________________________________________\n",
            "flatten_3 (Flatten)          (None, 8192)              0         \n",
            "_________________________________________________________________\n",
            "dense_3 (Dense)              (None, 10)                81930     \n",
            "=================================================================\n",
            "Total params: 92,074\n",
            "Trainable params: 92,074\n",
            "Non-trainable params: 0\n",
            "_________________________________________________________________\n"
          ],
          "name": "stdout"
        }
      ]
    },
    {
      "metadata": {
        "id": "oAbnGby3uG9P",
        "colab_type": "code",
        "outputId": "29d7b73b-e7d3-43c8-adf4-93d9190b03e0",
        "colab": {
          "base_uri": "https://localhost:8080/",
          "height": 799
        }
      },
      "cell_type": "code",
      "source": [
        "#Training\n",
        "batch_size = 10\n",
        "epochs = 10\n",
        "epoch_size=100\n",
        "opt_rms = keras.optimizers.rmsprop(lr=0.001,decay=1e-6)\n",
        "\n",
        "#model_2 without dropout\n",
        "model_2.compile(loss='categorical_crossentropy', optimizer=opt_rms, metrics=['accuracy'])\n",
        "model_2.fit_generator(datagen_2.flow(x_train, y_train, batch_size=batch_size),\\\n",
        "                    steps_per_epoch=epochs*epoch_size // batch_size,epochs=epochs,\\\n",
        "                    verbose=1,validation_data=(x_test,y_test),callbacks=[LearningRateScheduler(lr_schedule)])\n",
        "\n",
        "#Evaluate\n",
        "scores_3 = model_2.evaluate(x_test, y_test, batch_size=batch_size, verbose=1)\n",
        "\n",
        "\n",
        "\n",
        "#Training\n",
        "#model_3 with dropout\n",
        "model_3.compile(loss='categorical_crossentropy', optimizer=opt_rms, metrics=['accuracy'])\n",
        "model_3.fit_generator(datagen_2.flow(x_train, y_train, batch_size=batch_size),\\\n",
        "                    steps_per_epoch=epochs*epoch_size // batch_size,epochs=epochs,\\\n",
        "                    verbose=1,validation_data=(x_test,y_test),callbacks=[LearningRateScheduler(lr_schedule)])\n",
        "\n",
        "#Evaluate\n",
        "scores_4 = model_3.evaluate(x_test, y_test, batch_size=batch_size, verbose=1)\n",
        "\n",
        "print('\\nTest dropout 0.2: %.3f loss: %.3f' % (scores_3[1]*100,scores_3[0]))\n",
        "print('\\nTest dropout 0.5: %.3f loss: %.3f' % (scores_4[1]*100,scores_4[0]))\n"
      ],
      "execution_count": 0,
      "outputs": [
        {
          "output_type": "stream",
          "text": [
            "Epoch 1/10\n",
            "100/100 [==============================] - 4s 35ms/step - loss: 2.0592 - acc: 0.2890 - val_loss: 1.8570 - val_acc: 0.3525\n",
            "Epoch 2/10\n",
            "100/100 [==============================] - 3s 32ms/step - loss: 1.7584 - acc: 0.4060 - val_loss: 1.7165 - val_acc: 0.4131\n",
            "Epoch 3/10\n",
            "100/100 [==============================] - 3s 33ms/step - loss: 1.7686 - acc: 0.3670 - val_loss: 1.6344 - val_acc: 0.4236\n",
            "Epoch 4/10\n",
            "100/100 [==============================] - 3s 32ms/step - loss: 1.7283 - acc: 0.3920 - val_loss: 1.5593 - val_acc: 0.4597\n",
            "Epoch 5/10\n",
            "100/100 [==============================] - 3s 32ms/step - loss: 1.6106 - acc: 0.4410 - val_loss: 1.5730 - val_acc: 0.4528\n",
            "Epoch 6/10\n",
            "100/100 [==============================] - 3s 33ms/step - loss: 1.5416 - acc: 0.4500 - val_loss: 1.4735 - val_acc: 0.4901\n",
            "Epoch 7/10\n",
            "100/100 [==============================] - 3s 33ms/step - loss: 1.5370 - acc: 0.4590 - val_loss: 1.5224 - val_acc: 0.4750\n",
            "Epoch 8/10\n",
            "100/100 [==============================] - 3s 32ms/step - loss: 1.4478 - acc: 0.5030 - val_loss: 1.4003 - val_acc: 0.5125\n",
            "Epoch 9/10\n",
            "100/100 [==============================] - 3s 32ms/step - loss: 1.5189 - acc: 0.4850 - val_loss: 1.4685 - val_acc: 0.4955\n",
            "Epoch 10/10\n",
            "100/100 [==============================] - 3s 32ms/step - loss: 1.4538 - acc: 0.4810 - val_loss: 1.4299 - val_acc: 0.5018\n",
            "12000/12000 [==============================] - 3s 242us/step\n",
            "Epoch 1/10\n",
            "100/100 [==============================] - 4s 37ms/step - loss: 2.1150 - acc: 0.2480 - val_loss: 1.8718 - val_acc: 0.3455\n",
            "Epoch 2/10\n",
            "100/100 [==============================] - 3s 33ms/step - loss: 1.8166 - acc: 0.3470 - val_loss: 1.7418 - val_acc: 0.3912\n",
            "Epoch 3/10\n",
            "100/100 [==============================] - 3s 32ms/step - loss: 1.7568 - acc: 0.3950 - val_loss: 1.6407 - val_acc: 0.4234\n",
            "Epoch 4/10\n",
            "100/100 [==============================] - 3s 32ms/step - loss: 1.7285 - acc: 0.3950 - val_loss: 1.6098 - val_acc: 0.4228\n",
            "Epoch 5/10\n",
            "100/100 [==============================] - 3s 32ms/step - loss: 1.6904 - acc: 0.4140 - val_loss: 1.5917 - val_acc: 0.4388\n",
            "Epoch 6/10\n",
            "100/100 [==============================] - 3s 32ms/step - loss: 1.6519 - acc: 0.4190 - val_loss: 1.5133 - val_acc: 0.4718\n",
            "Epoch 7/10\n",
            "100/100 [==============================] - 3s 32ms/step - loss: 1.6164 - acc: 0.4370 - val_loss: 1.5337 - val_acc: 0.4624\n",
            "Epoch 8/10\n",
            "100/100 [==============================] - 3s 32ms/step - loss: 1.5705 - acc: 0.4350 - val_loss: 1.5149 - val_acc: 0.4697\n",
            "Epoch 9/10\n",
            "100/100 [==============================] - 3s 32ms/step - loss: 1.5905 - acc: 0.4530 - val_loss: 1.4670 - val_acc: 0.4944\n",
            "Epoch 10/10\n",
            "100/100 [==============================] - 3s 32ms/step - loss: 1.5692 - acc: 0.4560 - val_loss: 1.5114 - val_acc: 0.4738\n",
            "12000/12000 [==============================] - 3s 237us/step\n",
            "\n",
            "Test dropout 0.2: 50.183 loss: 1.430\n",
            "\n",
            "Test dropout 0.5: 47.375 loss: 1.511\n"
          ],
          "name": "stdout"
        }
      ]
    },
    {
      "metadata": {
        "id": "YR24czmBuHmj",
        "colab_type": "code",
        "colab": {}
      },
      "cell_type": "code",
      "source": [
        ""
      ],
      "execution_count": 0,
      "outputs": []
    },
    {
      "metadata": {
        "id": "AXYXFCeZuhY4",
        "colab_type": "text"
      },
      "cell_type": "markdown",
      "source": [
        "## Number of layers"
      ]
    },
    {
      "metadata": {
        "id": "ty5FtpA2uh9s",
        "colab_type": "code",
        "outputId": "30bef01c-defd-4f4a-ce6e-5900b4325d9b",
        "colab": {
          "base_uri": "https://localhost:8080/",
          "height": 1054
        }
      },
      "cell_type": "code",
      "source": [
        "model_4 = Sequential()\n",
        "\n",
        "#Conv Layer 1\n",
        "model_4.add(Conv2D(32, (3,3), padding='same', kernel_regularizer=regularizers.l2(weight_decay), input_shape=x_train.shape[1:]))\n",
        "model_4.add(Activation('elu'))\n",
        "model_4.add(BatchNormalization())\n",
        "\n",
        "#Conv Layer 2\n",
        "model_4.add(Conv2D(32, (3,3), padding='same', kernel_regularizer=regularizers.l2(weight_decay)))\n",
        "model_4.add(Activation('elu'))\n",
        "model_4.add(BatchNormalization())\n",
        "model_4.add(MaxPooling2D(pool_size=(2,2)))\n",
        "model_4.add(Dropout(0.2))\n",
        " \n",
        "#Conv Layer 3\n",
        "model_4.add(Conv2D(64, (3,3), padding='same', kernel_regularizer=regularizers.l2(weight_decay)))\n",
        "model_4.add(Activation('elu'))\n",
        "model_4.add(BatchNormalization())\n",
        "\n",
        "#Conv Layer 4\n",
        "model_4.add(Conv2D(64, (3,3), padding='same', kernel_regularizer=regularizers.l2(weight_decay)))\n",
        "model_4.add(Activation('elu'))\n",
        "model_4.add(BatchNormalization())\n",
        "model_4.add(MaxPooling2D(pool_size=(2,2)))\n",
        "model_4.add(Dropout(0.3))\n",
        "\n",
        "#Conv Layer 5\n",
        "model_4.add(Conv2D(128, (3,3), padding='same', kernel_regularizer=regularizers.l2(weight_decay)))\n",
        "model_4.add(Activation('elu'))\n",
        "model_4.add(BatchNormalization())\n",
        "\n",
        "#Conv Layer 6\n",
        "model_4.add(Conv2D(128, (3,3), padding='same', kernel_regularizer=regularizers.l2(weight_decay)))\n",
        "model_4.add(Activation('elu'))\n",
        "model_4.add(BatchNormalization())\n",
        "model_4.add(MaxPooling2D(pool_size=(2,2)))\n",
        "model_4.add(Dropout(0.4))\n",
        " \n",
        "model_4.add(Flatten())\n",
        "model_4.add(Dense(num_classes, activation='softmax'))\n",
        "\n",
        "print('\\nmodel_4 summary:')\n",
        "model_4.summary()"
      ],
      "execution_count": 0,
      "outputs": [
        {
          "output_type": "stream",
          "text": [
            "\n",
            "model_4 summary:\n",
            "_________________________________________________________________\n",
            "Layer (type)                 Output Shape              Param #   \n",
            "=================================================================\n",
            "conv2d_7 (Conv2D)            (None, 32, 32, 32)        896       \n",
            "_________________________________________________________________\n",
            "activation_7 (Activation)    (None, 32, 32, 32)        0         \n",
            "_________________________________________________________________\n",
            "batch_normalization_1 (Batch (None, 32, 32, 32)        128       \n",
            "_________________________________________________________________\n",
            "conv2d_8 (Conv2D)            (None, 32, 32, 32)        9248      \n",
            "_________________________________________________________________\n",
            "activation_8 (Activation)    (None, 32, 32, 32)        0         \n",
            "_________________________________________________________________\n",
            "batch_normalization_2 (Batch (None, 32, 32, 32)        128       \n",
            "_________________________________________________________________\n",
            "max_pooling2d_4 (MaxPooling2 (None, 16, 16, 32)        0         \n",
            "_________________________________________________________________\n",
            "dropout_3 (Dropout)          (None, 16, 16, 32)        0         \n",
            "_________________________________________________________________\n",
            "conv2d_9 (Conv2D)            (None, 16, 16, 64)        18496     \n",
            "_________________________________________________________________\n",
            "activation_9 (Activation)    (None, 16, 16, 64)        0         \n",
            "_________________________________________________________________\n",
            "batch_normalization_3 (Batch (None, 16, 16, 64)        256       \n",
            "_________________________________________________________________\n",
            "conv2d_10 (Conv2D)           (None, 16, 16, 64)        36928     \n",
            "_________________________________________________________________\n",
            "activation_10 (Activation)   (None, 16, 16, 64)        0         \n",
            "_________________________________________________________________\n",
            "batch_normalization_4 (Batch (None, 16, 16, 64)        256       \n",
            "_________________________________________________________________\n",
            "max_pooling2d_5 (MaxPooling2 (None, 8, 8, 64)          0         \n",
            "_________________________________________________________________\n",
            "dropout_4 (Dropout)          (None, 8, 8, 64)          0         \n",
            "_________________________________________________________________\n",
            "conv2d_11 (Conv2D)           (None, 8, 8, 128)         73856     \n",
            "_________________________________________________________________\n",
            "activation_11 (Activation)   (None, 8, 8, 128)         0         \n",
            "_________________________________________________________________\n",
            "batch_normalization_5 (Batch (None, 8, 8, 128)         512       \n",
            "_________________________________________________________________\n",
            "conv2d_12 (Conv2D)           (None, 8, 8, 128)         147584    \n",
            "_________________________________________________________________\n",
            "activation_12 (Activation)   (None, 8, 8, 128)         0         \n",
            "_________________________________________________________________\n",
            "batch_normalization_6 (Batch (None, 8, 8, 128)         512       \n",
            "_________________________________________________________________\n",
            "max_pooling2d_6 (MaxPooling2 (None, 4, 4, 128)         0         \n",
            "_________________________________________________________________\n",
            "dropout_5 (Dropout)          (None, 4, 4, 128)         0         \n",
            "_________________________________________________________________\n",
            "flatten_4 (Flatten)          (None, 2048)              0         \n",
            "_________________________________________________________________\n",
            "dense_4 (Dense)              (None, 10)                20490     \n",
            "=================================================================\n",
            "Total params: 309,290\n",
            "Trainable params: 308,394\n",
            "Non-trainable params: 896\n",
            "_________________________________________________________________\n"
          ],
          "name": "stdout"
        }
      ]
    },
    {
      "metadata": {
        "id": "tA06rTVWukuM",
        "colab_type": "code",
        "outputId": "9f8a65d4-c6ea-4cae-a200-8f8274b57b17",
        "colab": {
          "base_uri": "https://localhost:8080/",
          "height": 408
        }
      },
      "cell_type": "code",
      "source": [
        "#Training\n",
        "batch_size = 10\n",
        "epochs = 10\n",
        "epoch_size=100\n",
        "opt_rms = keras.optimizers.rmsprop(lr=0.001,decay=1e-6)\n",
        "\n",
        "#model_4 with 6 Conv layers\n",
        "model_4.compile(loss='categorical_crossentropy', optimizer=opt_rms, metrics=['accuracy'])\n",
        "model_4.fit_generator(datagen_2.flow(x_train, y_train, batch_size=batch_size),\\\n",
        "                    steps_per_epoch=epochs*epoch_size // batch_size,epochs=epochs,\\\n",
        "                    verbose=1,validation_data=(x_test,y_test),callbacks=[LearningRateScheduler(lr_schedule)])\n",
        "\n",
        "#Evaluate\n",
        "scores_5 = model_4.evaluate(x_test, y_test, batch_size=batch_size, verbose=1)\n",
        "\n",
        "\n",
        "print('\\nTest 6 layers: %.3f loss: %.3f' % (scores_5[1]*100,scores_5[0]))"
      ],
      "execution_count": 0,
      "outputs": [
        {
          "output_type": "stream",
          "text": [
            "Epoch 1/10\n",
            "100/100 [==============================] - 8s 81ms/step - loss: 3.4958 - acc: 0.2160 - val_loss: 3.8388 - val_acc: 0.2532\n",
            "Epoch 2/10\n",
            "100/100 [==============================] - 7s 66ms/step - loss: 3.0475 - acc: 0.2500 - val_loss: 4.1592 - val_acc: 0.2673\n",
            "Epoch 3/10\n",
            "100/100 [==============================] - 7s 66ms/step - loss: 2.8338 - acc: 0.2570 - val_loss: 3.2593 - val_acc: 0.3141\n",
            "Epoch 4/10\n",
            "100/100 [==============================] - 7s 66ms/step - loss: 2.5641 - acc: 0.2940 - val_loss: 2.3158 - val_acc: 0.3864\n",
            "Epoch 5/10\n",
            "100/100 [==============================] - 7s 66ms/step - loss: 2.5424 - acc: 0.3170 - val_loss: 2.7959 - val_acc: 0.3473\n",
            "Epoch 6/10\n",
            "100/100 [==============================] - 7s 66ms/step - loss: 2.3674 - acc: 0.3350 - val_loss: 2.0583 - val_acc: 0.4200\n",
            "Epoch 7/10\n",
            "100/100 [==============================] - 7s 66ms/step - loss: 2.4175 - acc: 0.3270 - val_loss: 2.3882 - val_acc: 0.3978\n",
            "Epoch 8/10\n",
            "100/100 [==============================] - 7s 66ms/step - loss: 2.1085 - acc: 0.3870 - val_loss: 1.8216 - val_acc: 0.4553\n",
            "Epoch 9/10\n",
            "100/100 [==============================] - 7s 66ms/step - loss: 2.1985 - acc: 0.3710 - val_loss: 1.7410 - val_acc: 0.4695\n",
            "Epoch 10/10\n",
            "100/100 [==============================] - 7s 66ms/step - loss: 2.2231 - acc: 0.3780 - val_loss: 1.7773 - val_acc: 0.4452\n",
            "12000/12000 [==============================] - 5s 436us/step\n",
            "\n",
            "Test 6 layers: 44.517 loss: 1.777\n"
          ],
          "name": "stdout"
        }
      ]
    },
    {
      "metadata": {
        "id": "aQsHJUC0uotF",
        "colab_type": "code",
        "colab": {}
      },
      "cell_type": "code",
      "source": [
        ""
      ],
      "execution_count": 0,
      "outputs": []
    },
    {
      "metadata": {
        "id": "ragSK7AVvEpS",
        "colab_type": "text"
      },
      "cell_type": "markdown",
      "source": [
        "## Epochs y batch_size"
      ]
    },
    {
      "metadata": {
        "id": "-wtsDCHjvFNV",
        "colab_type": "code",
        "outputId": "d2fee5d9-da5a-4097-eeb3-1fc31f5c8faf",
        "colab": {
          "base_uri": "https://localhost:8080/",
          "height": 1054
        }
      },
      "cell_type": "code",
      "source": [
        "model_5 = Sequential()\n",
        "\n",
        "#Conv Layer 1\n",
        "model_5.add(Conv2D(32, (3,3), padding='same', kernel_regularizer=regularizers.l2(weight_decay), input_shape=x_train.shape[1:]))\n",
        "model_5.add(Activation('elu'))\n",
        "model_5.add(BatchNormalization())\n",
        "\n",
        "#Conv Layer 2\n",
        "model_5.add(Conv2D(32, (3,3), padding='same', kernel_regularizer=regularizers.l2(weight_decay)))\n",
        "model_5.add(Activation('elu'))\n",
        "model_5.add(BatchNormalization())\n",
        "model_5.add(MaxPooling2D(pool_size=(2,2)))\n",
        "model_5.add(Dropout(0.2))\n",
        " \n",
        "#Conv Layer 3\n",
        "model_5.add(Conv2D(64, (3,3), padding='same', kernel_regularizer=regularizers.l2(weight_decay)))\n",
        "model_5.add(Activation('elu'))\n",
        "model_5.add(BatchNormalization())\n",
        "\n",
        "#Conv Layer 4\n",
        "model_5.add(Conv2D(64, (3,3), padding='same', kernel_regularizer=regularizers.l2(weight_decay)))\n",
        "model_5.add(Activation('elu'))\n",
        "model_5.add(BatchNormalization())\n",
        "model_5.add(MaxPooling2D(pool_size=(2,2)))\n",
        "model_5.add(Dropout(0.3))\n",
        "\n",
        "#Conv Layer 5\n",
        "model_5.add(Conv2D(128, (3,3), padding='same', kernel_regularizer=regularizers.l2(weight_decay)))\n",
        "model_5.add(Activation('elu'))\n",
        "model_5.add(BatchNormalization())\n",
        "\n",
        "#Conv Layer 6\n",
        "model_5.add(Conv2D(128, (3,3), padding='same', kernel_regularizer=regularizers.l2(weight_decay)))\n",
        "model_5.add(Activation('elu'))\n",
        "model_5.add(BatchNormalization())\n",
        "model_5.add(MaxPooling2D(pool_size=(2,2)))\n",
        "model_5.add(Dropout(0.4))\n",
        " \n",
        "model_5.add(Flatten())\n",
        "model_5.add(Dense(num_classes, activation='softmax'))\n",
        "\n",
        "print('\\nmodel_5 summary:')\n",
        "model_5.summary()"
      ],
      "execution_count": 0,
      "outputs": [
        {
          "output_type": "stream",
          "text": [
            "\n",
            "model_5 summary:\n",
            "_________________________________________________________________\n",
            "Layer (type)                 Output Shape              Param #   \n",
            "=================================================================\n",
            "conv2d_13 (Conv2D)           (None, 32, 32, 32)        896       \n",
            "_________________________________________________________________\n",
            "activation_13 (Activation)   (None, 32, 32, 32)        0         \n",
            "_________________________________________________________________\n",
            "batch_normalization_7 (Batch (None, 32, 32, 32)        128       \n",
            "_________________________________________________________________\n",
            "conv2d_14 (Conv2D)           (None, 32, 32, 32)        9248      \n",
            "_________________________________________________________________\n",
            "activation_14 (Activation)   (None, 32, 32, 32)        0         \n",
            "_________________________________________________________________\n",
            "batch_normalization_8 (Batch (None, 32, 32, 32)        128       \n",
            "_________________________________________________________________\n",
            "max_pooling2d_7 (MaxPooling2 (None, 16, 16, 32)        0         \n",
            "_________________________________________________________________\n",
            "dropout_6 (Dropout)          (None, 16, 16, 32)        0         \n",
            "_________________________________________________________________\n",
            "conv2d_15 (Conv2D)           (None, 16, 16, 64)        18496     \n",
            "_________________________________________________________________\n",
            "activation_15 (Activation)   (None, 16, 16, 64)        0         \n",
            "_________________________________________________________________\n",
            "batch_normalization_9 (Batch (None, 16, 16, 64)        256       \n",
            "_________________________________________________________________\n",
            "conv2d_16 (Conv2D)           (None, 16, 16, 64)        36928     \n",
            "_________________________________________________________________\n",
            "activation_16 (Activation)   (None, 16, 16, 64)        0         \n",
            "_________________________________________________________________\n",
            "batch_normalization_10 (Batc (None, 16, 16, 64)        256       \n",
            "_________________________________________________________________\n",
            "max_pooling2d_8 (MaxPooling2 (None, 8, 8, 64)          0         \n",
            "_________________________________________________________________\n",
            "dropout_7 (Dropout)          (None, 8, 8, 64)          0         \n",
            "_________________________________________________________________\n",
            "conv2d_17 (Conv2D)           (None, 8, 8, 128)         73856     \n",
            "_________________________________________________________________\n",
            "activation_17 (Activation)   (None, 8, 8, 128)         0         \n",
            "_________________________________________________________________\n",
            "batch_normalization_11 (Batc (None, 8, 8, 128)         512       \n",
            "_________________________________________________________________\n",
            "conv2d_18 (Conv2D)           (None, 8, 8, 128)         147584    \n",
            "_________________________________________________________________\n",
            "activation_18 (Activation)   (None, 8, 8, 128)         0         \n",
            "_________________________________________________________________\n",
            "batch_normalization_12 (Batc (None, 8, 8, 128)         512       \n",
            "_________________________________________________________________\n",
            "max_pooling2d_9 (MaxPooling2 (None, 4, 4, 128)         0         \n",
            "_________________________________________________________________\n",
            "dropout_8 (Dropout)          (None, 4, 4, 128)         0         \n",
            "_________________________________________________________________\n",
            "flatten_5 (Flatten)          (None, 2048)              0         \n",
            "_________________________________________________________________\n",
            "dense_5 (Dense)              (None, 10)                20490     \n",
            "=================================================================\n",
            "Total params: 309,290\n",
            "Trainable params: 308,394\n",
            "Non-trainable params: 896\n",
            "_________________________________________________________________\n"
          ],
          "name": "stdout"
        }
      ]
    },
    {
      "metadata": {
        "id": "rQcrXxEivHP1",
        "colab_type": "code",
        "outputId": "8bf44456-1b14-496c-b2ef-960896446802",
        "colab": {
          "base_uri": "https://localhost:8080/",
          "height": 1156
        }
      },
      "cell_type": "code",
      "source": [
        "#Training\n",
        "batch_size = 32\n",
        "epochs = 32\n",
        "epoch_size=500\n",
        "opt_rms = keras.optimizers.rmsprop(lr=0.001,decay=1e-6)\n",
        "\n",
        "#model_5 with high epochs y batch_size\n",
        "model_5.compile(loss='categorical_crossentropy', optimizer=opt_rms, metrics=['accuracy'])\n",
        "model_5.fit_generator(datagen_2.flow(x_train, y_train, batch_size=batch_size),\\\n",
        "                    steps_per_epoch=epochs*epoch_size // batch_size,epochs=epochs,\\\n",
        "                    verbose=1,validation_data=(x_test,y_test),callbacks=[LearningRateScheduler(lr_schedule)])\n",
        "\n",
        "#Evaluate\n",
        "scores_6 = model_5.evaluate(x_test, y_test, batch_size=128, verbose=1)\n",
        "\n",
        "\n",
        "print('\\nTest epochs=64: %.3f loss: %.3f' % (scores_6[1]*100,scores_6[0]))"
      ],
      "execution_count": 0,
      "outputs": [
        {
          "output_type": "stream",
          "text": [
            "Epoch 1/32\n",
            "500/500 [==============================] - 18s 36ms/step - loss: 2.2181 - acc: 0.3697 - val_loss: 1.5003 - val_acc: 0.5332\n",
            "Epoch 2/32\n",
            "500/500 [==============================] - 16s 31ms/step - loss: 1.5487 - acc: 0.5234 - val_loss: 1.1941 - val_acc: 0.6199\n",
            "Epoch 3/32\n",
            "500/500 [==============================] - 15s 31ms/step - loss: 1.2990 - acc: 0.5909 - val_loss: 1.1601 - val_acc: 0.6409\n",
            "Epoch 4/32\n",
            "500/500 [==============================] - 15s 31ms/step - loss: 1.1160 - acc: 0.6528 - val_loss: 1.0506 - val_acc: 0.6748\n",
            "Epoch 5/32\n",
            "500/500 [==============================] - 15s 31ms/step - loss: 1.0578 - acc: 0.6676 - val_loss: 0.9264 - val_acc: 0.7062\n",
            "Epoch 6/32\n",
            "500/500 [==============================] - 15s 31ms/step - loss: 0.9973 - acc: 0.6954 - val_loss: 0.8387 - val_acc: 0.7431\n",
            "Epoch 7/32\n",
            "500/500 [==============================] - 15s 31ms/step - loss: 0.9267 - acc: 0.7171 - val_loss: 0.8479 - val_acc: 0.7353\n",
            "Epoch 8/32\n",
            "500/500 [==============================] - 15s 30ms/step - loss: 0.8858 - acc: 0.7319 - val_loss: 0.8248 - val_acc: 0.7574\n",
            "Epoch 9/32\n",
            "500/500 [==============================] - 15s 31ms/step - loss: 0.8733 - acc: 0.7362 - val_loss: 0.7644 - val_acc: 0.7739\n",
            "Epoch 10/32\n",
            "500/500 [==============================] - 15s 31ms/step - loss: 0.7934 - acc: 0.7636 - val_loss: 0.7619 - val_acc: 0.7769\n",
            "Epoch 11/32\n",
            "500/500 [==============================] - 15s 30ms/step - loss: 0.8136 - acc: 0.7557 - val_loss: 0.7513 - val_acc: 0.7828\n",
            "Epoch 12/32\n",
            "500/500 [==============================] - 15s 30ms/step - loss: 0.8003 - acc: 0.7615 - val_loss: 0.7435 - val_acc: 0.7879\n",
            "Epoch 13/32\n",
            "500/500 [==============================] - 16s 31ms/step - loss: 0.7547 - acc: 0.7840 - val_loss: 0.7415 - val_acc: 0.7918\n",
            "Epoch 14/32\n",
            "500/500 [==============================] - 15s 30ms/step - loss: 0.7500 - acc: 0.7849 - val_loss: 0.7113 - val_acc: 0.7970\n",
            "Epoch 15/32\n",
            "500/500 [==============================] - 15s 30ms/step - loss: 0.7320 - acc: 0.7947 - val_loss: 0.7407 - val_acc: 0.7937\n",
            "Epoch 16/32\n",
            "500/500 [==============================] - 15s 31ms/step - loss: 0.6865 - acc: 0.8053 - val_loss: 0.7154 - val_acc: 0.8023\n",
            "Epoch 17/32\n",
            "500/500 [==============================] - 15s 30ms/step - loss: 0.7173 - acc: 0.7994 - val_loss: 0.7035 - val_acc: 0.8093\n",
            "Epoch 18/32\n",
            "500/500 [==============================] - 15s 30ms/step - loss: 0.7195 - acc: 0.8029 - val_loss: 0.6803 - val_acc: 0.8158\n",
            "Epoch 19/32\n",
            "500/500 [==============================] - 15s 31ms/step - loss: 0.6592 - acc: 0.8193 - val_loss: 0.6774 - val_acc: 0.8164\n",
            "Epoch 20/32\n",
            "500/500 [==============================] - 15s 31ms/step - loss: 0.6767 - acc: 0.8162 - val_loss: 0.6891 - val_acc: 0.8154\n",
            "Epoch 21/32\n",
            "500/500 [==============================] - 15s 30ms/step - loss: 0.6948 - acc: 0.8131 - val_loss: 0.6882 - val_acc: 0.8207\n",
            "Epoch 22/32\n",
            "500/500 [==============================] - 15s 30ms/step - loss: 0.6303 - acc: 0.8301 - val_loss: 0.6756 - val_acc: 0.8244\n",
            "Epoch 23/32\n",
            "500/500 [==============================] - 15s 29ms/step - loss: 0.6564 - acc: 0.8249 - val_loss: 0.6984 - val_acc: 0.8166\n",
            "Epoch 24/32\n",
            "500/500 [==============================] - 15s 31ms/step - loss: 0.6696 - acc: 0.8202 - val_loss: 0.6814 - val_acc: 0.8214\n",
            "Epoch 25/32\n",
            "500/500 [==============================] - 15s 31ms/step - loss: 0.6171 - acc: 0.8411 - val_loss: 0.6903 - val_acc: 0.8197\n",
            "Epoch 26/32\n",
            "500/500 [==============================] - 15s 30ms/step - loss: 0.6394 - acc: 0.8319 - val_loss: 0.6730 - val_acc: 0.8303\n",
            "Epoch 27/32\n",
            "500/500 [==============================] - 15s 30ms/step - loss: 0.6403 - acc: 0.8359 - val_loss: 0.6732 - val_acc: 0.8273\n",
            "Epoch 28/32\n",
            "500/500 [==============================] - 15s 29ms/step - loss: 0.5990 - acc: 0.8511 - val_loss: 0.6621 - val_acc: 0.8347\n",
            "Epoch 29/32\n",
            "500/500 [==============================] - 15s 30ms/step - loss: 0.6305 - acc: 0.8344 - val_loss: 0.6630 - val_acc: 0.8311\n",
            "Epoch 30/32\n",
            "500/500 [==============================] - 15s 30ms/step - loss: 0.6227 - acc: 0.8414 - val_loss: 0.6953 - val_acc: 0.8279\n",
            "Epoch 31/32\n",
            "500/500 [==============================] - 15s 30ms/step - loss: 0.5936 - acc: 0.8528 - val_loss: 0.6762 - val_acc: 0.8306\n",
            "Epoch 32/32\n",
            "500/500 [==============================] - 15s 30ms/step - loss: 0.6260 - acc: 0.8419 - val_loss: 0.6520 - val_acc: 0.8365\n",
            "12000/12000 [==============================] - 1s 120us/step\n",
            "\n",
            "Test epochs=64: 83.650 loss: 0.652\n"
          ],
          "name": "stdout"
        }
      ]
    },
    {
      "metadata": {
        "id": "mwAPybUQvT2W",
        "colab_type": "code",
        "colab": {}
      },
      "cell_type": "code",
      "source": [
        ""
      ],
      "execution_count": 0,
      "outputs": []
    },
    {
      "metadata": {
        "id": "Fv_IeSLuxRIT",
        "colab_type": "text"
      },
      "cell_type": "markdown",
      "source": [
        "## Evaluation of best model\n",
        "\n",
        "The best model is the model_5 with an accuracy above 80%."
      ]
    },
    {
      "metadata": {
        "id": "lwaUlTp0xRwp",
        "colab_type": "code",
        "outputId": "bcc2f293-6878-4c6f-e80b-59fc044c9d15",
        "colab": {
          "base_uri": "https://localhost:8080/",
          "height": 119
        }
      },
      "cell_type": "code",
      "source": [
        "\n",
        "print('Model #\t\tAccuracy \t\t\tLoss \t')\n",
        "print('1\t\t%f\t \t\t%f ' % (scores_2[1]*100,scores_1[0]))\n",
        "print('2\t\t%f\t \t\t%f ' % (scores_3[1]*100,scores_2[0]))\n",
        "print('3\t\t%f\t \t\t%f ' % (scores_4[1]*100,scores_3[0]))\n",
        "print('4\t\t%f\t \t\t%f ' % (scores_5[1]*100,scores_4[0]))\n",
        "print('5\t\t%f\t \t\t%f ' % (scores_6[1]*100,scores_5[0]))\n"
      ],
      "execution_count": 0,
      "outputs": [
        {
          "output_type": "stream",
          "text": [
            "Model #\t\tAccuracy \t\t\tLoss \t\n",
            "1\t\t59.225001\t \t\t1.557161 \n",
            "2\t\t50.183334\t \t\t1.523296 \n",
            "3\t\t47.375001\t \t\t1.429862 \n",
            "4\t\t44.516667\t \t\t1.511366 \n",
            "5\t\t83.650000\t \t\t1.777291 \n"
          ],
          "name": "stdout"
        }
      ]
    },
    {
      "metadata": {
        "id": "jaXBfcXRxUXx",
        "colab_type": "code",
        "colab": {}
      },
      "cell_type": "code",
      "source": [
        ""
      ],
      "execution_count": 0,
      "outputs": []
    },
    {
      "metadata": {
        "id": "IwsISOPZxbeD",
        "colab_type": "text"
      },
      "cell_type": "markdown",
      "source": [
        "##Now, evaluate the best model with the test data set"
      ]
    },
    {
      "metadata": {
        "id": "DkPxeo-7xcCp",
        "colab_type": "code",
        "outputId": "67cdec77-b74f-433c-b844-fc253fa42942",
        "colab": {
          "base_uri": "https://localhost:8080/",
          "height": 51
        }
      },
      "cell_type": "code",
      "source": [
        "from sklearn.metrics import accuracy_score, f1_score\n",
        "\n",
        "test_predictions = model_5.predict(x_test)\n",
        "test_predictions = np.round(test_predictions)\n",
        "  \n",
        "# Obtain scores from model_5\n",
        "accuracy = accuracy_score(y_test, test_predictions)\n",
        "f1 = f1_score(y_test, test_predictions, average='macro') \n",
        "print(\"Accuracy: \" + str(accuracy))\n",
        "print(\"F1_macro: \" + str(f1))"
      ],
      "execution_count": 0,
      "outputs": [
        {
          "output_type": "stream",
          "text": [
            "Accuracy: 0.80425\n",
            "F1_macro: 0.8359317654085185\n"
          ],
          "name": "stdout"
        }
      ]
    },
    {
      "metadata": {
        "id": "qUeaw_wuxeSx",
        "colab_type": "code",
        "colab": {}
      },
      "cell_type": "code",
      "source": [
        ""
      ],
      "execution_count": 0,
      "outputs": []
    },
    {
      "metadata": {
        "id": "HyTIC50fxh92",
        "colab_type": "text"
      },
      "cell_type": "markdown",
      "source": [
        "##K-fold Validation\n",
        "Now, perform a k-fold validation to the model_5"
      ]
    },
    {
      "metadata": {
        "id": "-kdDB9u1xig_",
        "colab_type": "code",
        "outputId": "2eb898bb-cee3-4dc3-f4e7-a5c3030013d2",
        "colab": {
          "base_uri": "https://localhost:8080/",
          "height": 102
        }
      },
      "cell_type": "code",
      "source": [
        "from sklearn.model_selection import KFold\n",
        "\n",
        "kf = KFold(n_splits=5)\n",
        "for train, test in kf.split(x_train):\n",
        "  pass    \n",
        "  \n",
        "X_TRAIN, X_TEST, Y_TRAIN, Y_TEST = x_train[train], x_train[test], y_train[train], y_train[test]\n",
        "print(X_TRAIN.shape)\n",
        "print(Y_TRAIN.shape)\n",
        "\n",
        "scores_7 = model_5.evaluate(X_TEST, Y_TEST, batch_size=64, verbose=1)\n",
        "\n",
        "print('\\nTest kFold: %.3f loss: %.3f' % (scores_7[1]*100,scores_7[0]))\n",
        "\n"
      ],
      "execution_count": 0,
      "outputs": [
        {
          "output_type": "stream",
          "text": [
            "(38400, 32, 32, 3)\n",
            "(38400, 10)\n",
            "9600/9600 [==============================] - 1s 153us/step\n",
            "\n",
            "Test kFold: 91.188 loss: 0.443\n"
          ],
          "name": "stdout"
        }
      ]
    }
  ]
}