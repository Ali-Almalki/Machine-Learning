{
 "cells": [
  {
   "cell_type": "code",
   "execution_count": null,
   "metadata": {},
   "outputs": [],
   "source": []
  },
  {
   "cell_type": "code",
   "execution_count": null,
   "metadata": {},
   "outputs": [],
   "source": []
  },
  {
   "cell_type": "code",
   "execution_count": 10,
   "metadata": {
    "colab": {
     "base_uri": "https://localhost:8080/",
     "height": 1434
    },
    "colab_type": "code",
    "id": "VqumrmCDSBHf",
    "outputId": "81b35e2f-28e3-4cb7-a63b-71d78cc6237e"
   },
   "outputs": [
    {
     "name": "stdout",
     "output_type": "stream",
     "text": [
      "_________________________________________________________________\n",
      "Layer (type)                 Output Shape              Param #   \n",
      "=================================================================\n",
      "dense_4 (Dense)              (None, 10)                7860      \n",
      "=================================================================\n",
      "Total params: 7,860\n",
      "Trainable params: 7,860\n",
      "Non-trainable params: 0\n",
      "_________________________________________________________________\n",
      "Epoch 1/15\n",
      " - 5s - loss: 0.7670 - acc: 0.8297\n",
      "Epoch 2/15\n",
      " - 5s - loss: 0.4520 - acc: 0.8830\n",
      "Epoch 3/15\n",
      " - 5s - loss: 0.3992 - acc: 0.8927\n",
      "Epoch 4/15\n",
      " - 5s - loss: 0.3725 - acc: 0.8985\n",
      "Epoch 5/15\n",
      " - 5s - loss: 0.3555 - acc: 0.9027\n",
      "Epoch 6/15\n",
      " - 5s - loss: 0.3431 - acc: 0.9061\n",
      "Epoch 7/15\n",
      " - 5s - loss: 0.3336 - acc: 0.9081\n",
      "Epoch 8/15\n",
      " - 5s - loss: 0.3261 - acc: 0.9103\n",
      "Epoch 9/15\n",
      " - 5s - loss: 0.3199 - acc: 0.9113\n",
      "Epoch 10/15\n",
      " - 5s - loss: 0.3145 - acc: 0.9129\n",
      "Epoch 11/15\n",
      " - 5s - loss: 0.3098 - acc: 0.9142\n",
      "Epoch 12/15\n",
      " - 5s - loss: 0.3057 - acc: 0.9155\n",
      "Epoch 13/15\n",
      " - 5s - loss: 0.3021 - acc: 0.9169\n",
      "Epoch 14/15\n",
      " - 5s - loss: 0.2989 - acc: 0.9178\n",
      "Epoch 15/15\n",
      " - 5s - loss: 0.2960 - acc: 0.9187\n"
     ]
    },
    {
     "data": {
      "image/png": "[encoded data removed]",
      "text/plain": [
       "<Figure size 576x396 with 1 Axes>"
      ]
     },
     "metadata": {
      "tags": []
     },
     "output_type": "display_data"
    },
    {
     "name": "stdout",
     "output_type": "stream",
     "text": [
      "Test accuracy of the model is: 92.1%, ie 9210/10000\n"
     ]
    },
    {
     "data": {
      "image/png": "[encoded data removed]",
      "text/plain": [
       "<Figure size 576x396 with 1 Axes>"
      ]
     },
     "metadata": {
      "tags": []
     },
     "output_type": "display_data"
    },
    {
     "name": "stdout",
     "output_type": "stream",
     "text": [
      "Above image is predicted as 1, which is True\n"
     ]
    }
   ],
   "source": [
    "\n",
    "from keras.datasets import mnist\n",
    "import matplotlib.pyplot as plt\n",
    "import numpy as np\n",
    "from keras.layers import Dense\n",
    "from keras.models import Sequential\n",
    "from skimage import measure\n",
    "import cv2\n",
    "\n",
    "def show_image(x):\n",
    "    image = x.reshape(28,28)\n",
    "    plt.imshow(image)\n",
    "    plt.axis(\"off\")\n",
    "    plt.show()\n",
    "    \n",
    "def plot_training_acc(acc):  # TO GENERATE EPOCH VS ACC PLOT\n",
    "    plt.plot(range(1,len(acc)+1), acc)\n",
    "    plt.xlabel(\"epoch\")\n",
    "    plt.ylabel(\"accuracy\")\n",
    "    plt.title('Training accuracy')\n",
    "    plt.show()\n",
    "    \n",
    "# RETURNS TWO NUMPY ARRAY WHICH ARE THE COUNTS OF NUMBER OF REGION IN THE IMAGES\n",
    "def get_extra_features(train, test):\n",
    "    aa, binary_train=cv2.threshold(train, 0, 1, cv2.THRESH_BINARY)\n",
    "    aa, binary_test=cv2.threshold(test, 0, 1, cv2.THRESH_BINARY)\n",
    "    \n",
    "    n_region_train=[]\n",
    "    for i in range(len(train)):\n",
    "        aa, num = measure.label(binary_train[i], neighbors=None, background=1, return_num=True, connectivity=None)\n",
    "        n_region_train.append(num)\n",
    "    \n",
    "    n_region_test=[]\n",
    "    for i in range(len(test)):\n",
    "        aa, num = measure.label(binary_test[i], neighbors=None, background=1, return_num=True, connectivity=None)\n",
    "        n_region_test.append(num)\n",
    "    return (np.array([n_region_train]),np.array([n_region_test]))\n",
    "    \n",
    "\n",
    "# Load the training and test data using Keras, And Reshaping\n",
    "(train_images, train_y), (test_images, test_y) = mnist.load_data()\n",
    "train_X=train_images.reshape(-1, train_images.shape[1]*train_images.shape[2]).astype('float')\n",
    "train_X=train_X/255\n",
    "test_X=test_images.reshape(-1, test_images.shape[1]*test_images.shape[2]).astype('float')\n",
    "test_X=test_X/255\n",
    "\n",
    "# Add (normalizing and then appending) a extra feature IN TRAIN AND TEST BOTH respectively \n",
    "extra_train,extra_test=get_extra_features(train_images, test_images)\n",
    "train_X_new= np.concatenate((train_X, (extra_train/extra_train.max()).T), axis=1)\n",
    "test_X_new= np.concatenate((test_X, (extra_test/extra_train.max()).T), axis=1)\n",
    "\n",
    "# Labeling for Each classes (0 to 9) (Y is matrix and y is a vector)\n",
    "train_Y=np.zeros(shape=(10,len(train_y)), dtype='int')\n",
    "test_Y=np.zeros(shape=(10,len(test_y)), dtype='int')\n",
    "for j in range(len(train_y)):\n",
    "    train_Y[train_y[j]][j]=1\n",
    "for j in range(len(test_y)):\n",
    "    test_Y[test_y[j]][j]=1    \n",
    "\n",
    "# MODELING\n",
    "model = Sequential()\n",
    "model.add(Dense(train_Y.T.shape[1],input_shape=(train_X_new.shape[1],), use_bias=True,kernel_initializer='random_uniform', bias_initializer='random_uniform', activation='softmax'))\n",
    "model.compile(loss='categorical_crossentropy', optimizer='sgd',metrics=['accuracy'])\n",
    "model.summary()\n",
    "cache=model.fit(train_X_new, train_Y.T, epochs=15, verbose=2)\n",
    "plot_training_acc(cache.history['acc'])\n",
    "\n",
    "# Prediction and TESTING\n",
    "Prediction=model.predict(test_X_new) #matrix 10000*10\n",
    "prediction=np.argmax(Prediction,axis=1) # A vector 10000 \n",
    "print('Test accuracy of the model is: '+str(100*np.sum(prediction==test_y)/len(prediction))+'%, ie '+str(np.sum(prediction==test_y))+'/'+str(len(test_y)))\n",
    "\n",
    "# PLOTING \n",
    "rand_num = np.random.randint(0,len(test_y))\n",
    "show_image(test_X[rand_num])\n",
    "print('Above image is predicted as '+str(prediction[rand_num])+', which is '+str(prediction[rand_num]==test_y[rand_num]) )\n"
   ]
  },
  {
   "cell_type": "code",
   "execution_count": null,
   "metadata": {},
   "outputs": [],
   "source": []
  }
 ],
 "metadata": {
  "accelerator": "GPU",
  "colab": {
   "name": "Untitled0.ipynb",
   "provenance": [],
   "version": "0.3.2"
  },
  "kernelspec": {
   "display_name": "Python 3",
   "language": "python",
   "name": "python3"
  },
  "language_info": {
   "codemirror_mode": {
    "name": "ipython",
    "version": 3
   },
   "file_extension": ".py",
   "mimetype": "text/x-python",
   "name": "python",
   "nbconvert_exporter": "python",
   "pygments_lexer": "ipython3",
   "version": "3.7.1"
  }
 },
 "nbformat": 4,
 "nbformat_minor": 1
}
