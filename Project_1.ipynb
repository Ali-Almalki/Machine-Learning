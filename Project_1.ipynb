{
  "nbformat": 4,
  "nbformat_minor": 0,
  "metadata": {
    "colab": {
      "name": "Project_1.ipynb",
      "version": "0.3.2",
      "provenance": []
    },
    "kernelspec": {
      "display_name": "Python 3",
      "language": "python",
      "name": "python3"
    }
  },
  "cells": [
    {
      "metadata": {
        "_cell_guid": "b1076dfc-b9ad-4769-8c92-a6c4dae69d19",
        "_uuid": "8f2839f25d086af736a60e9eeb907d3b93b6e0e5",
        "id": "7VMTqIR5Cc1f",
        "colab_type": "code",
        "colab": {}
      },
      "cell_type": "code",
      "source": [
        "\n",
        "import numpy as np # linear algebra\n",
        "import pandas as pd # data processing, CSV file I/O (e.g. pd.read_csv)\n",
        "\n",
        "\n",
        "import os\n"
      ],
      "execution_count": 0,
      "outputs": []
    },
    {
      "metadata": {
        "_uuid": "133f06fca5242ef88f73c9a755f8360fc84aa13a",
        "id": "TchcFZQeCc1p",
        "colab_type": "text"
      },
      "cell_type": "markdown",
      "source": [
        "## Preprocessing Input\n",
        "\n",
        "42000 training images\n",
        "\n",
        "Image pixels converted to binary (0 - for pixel value 0, 1 - for non-zero pixel value)\n",
        "\n",
        "Image labels are converted to binary (0 - if label is not integer 'i', 1 - if label is integer 'i')\n",
        "\n",
        "Equal samples drawn from both 0 and 1 class to form training data."
      ]
    },
    {
      "metadata": {
        "_uuid": "dfb97d72f4edb31858f57ec4c5140178af5dc97d",
        "id": "so0Z0CwsCc1s",
        "colab_type": "code",
        "colab": {}
      },
      "cell_type": "code",
      "source": [
        "from collections import Counter\n",
        "def preprocess_input(i):\n",
        "    train_data = pd.read_csv('train.csv')\n",
        "    train_data.loc[train_data.label != i, 'label'] = -1\n",
        "    train_data.loc[train_data.label == i, 'label'] = -2\n",
        "    train_data.loc[train_data.label == -1, 'label'] = 0\n",
        "    train_data.loc[train_data.label == -2, 'label'] = 1\n",
        "    cols = list(train_data.columns)\n",
        "    cols.remove('label')\n",
        "    train_data = train_data.astype(bool).astype(int)\n",
        "    in_class = train_data[train_data['label']==1]\n",
        "    non_class = train_data[train_data['label']==0]\n",
        "    non_class = non_class.sample(n=len(in_class.index))\n",
        "    final_data = pd.concat([non_class,in_class],sort=False)\n",
        "    train_labels = final_data['label']\n",
        "    train_X = np.array(final_data[cols])\n",
        "#     plt.imshow(train_X[0].reshape(28,28),cmap='gray')\n",
        "    return (train_X,train_labels)\n",
        "\n"
      ],
      "execution_count": 0,
      "outputs": []
    },
    {
      "metadata": {
        "_uuid": "d9167bf89adf98e71474240afee4d6a9360a1a43",
        "id": "mswyvP1fCc10",
        "colab_type": "text"
      },
      "cell_type": "markdown",
      "source": [
        "## Logistic Regression\n",
        "\n",
        "Loss - Binary Cross Entropy\n",
        "\n",
        "Intercept added to input X for bias.\n",
        "\n",
        "Prediction based on threshold value (default - 0.5)"
      ]
    },
    {
      "metadata": {
        "_cell_guid": "79c7e3d0-c299-4dcb-8224-4455121ee9b0",
        "_uuid": "d629ff2d2480ee46fbb7e2d37f6b5fab8052498a",
        "id": "fTyhBiqXCc13",
        "colab_type": "code",
        "colab": {}
      },
      "cell_type": "code",
      "source": [
        "class LogisticRegression:\n",
        "    def __init__(self, lr=0.01, num_iter=100000, fit_intercept=True, verbose=False):\n",
        "        self.lr = lr\n",
        "        self.num_iter = num_iter\n",
        "        self.fit_intercept = fit_intercept\n",
        "        self.verbose = verbose\n",
        "    \n",
        "    def __add_intercept(self, X):\n",
        "        intercept = np.ones((X.shape[0], 1))\n",
        "        return np.concatenate((intercept, X), axis=1)\n",
        "    \n",
        "    def __sigmoid(self, z):\n",
        "        return 1 / (1 + np.exp(-z))\n",
        "\n",
        "    def __loss(self, h, y):\n",
        "#         m = len(y)\n",
        "#         return (np.square(y - h))/m #.mean(axis=ax)\n",
        "        return (-y * np.log(h) - (1 - y) * np.log(1 - h)).mean()\n",
        "    \n",
        "    def fit(self, X, y):\n",
        "        if self.fit_intercept:\n",
        "            X = self.__add_intercept(X)\n",
        "        \n",
        "        # weights initialization\n",
        "        self.theta = np.zeros(X.shape[1])\n",
        "        \n",
        "        for i in range(self.num_iter):\n",
        "#             print(i)\n",
        "            z = np.dot(X, self.theta)\n",
        "            h = self.__sigmoid(z)\n",
        "            m = len(y)\n",
        "#             gradient = np.dot(X.T,(h-y))/m #.mean(axis=ax)\n",
        "            gradient = np.dot(X.T, (h - y)) / y.size\n",
        "            self.theta -= self.lr * gradient\n",
        "            \n",
        "            if(self.verbose == True and i % 10000 == 0):\n",
        "                z = np.dot(X, self.theta)\n",
        "                h = self.__sigmoid(z)\n",
        "                print(f'loss: {self.__loss(h, y)} \\t')\n",
        "    \n",
        "    def predict_prob(self, X):\n",
        "        if self.fit_intercept:\n",
        "            X = self.__add_intercept(X)\n",
        "    \n",
        "        return self.__sigmoid(np.dot(X, self.theta))\n",
        "    \n",
        "    def predict(self, X, threshold):\n",
        "        return self.predict_prob(X) >= threshold"
      ],
      "execution_count": 0,
      "outputs": []
    },
    {
      "metadata": {
        "_uuid": "19df70891de136fdce2cd5da22198c95da78f7de",
        "id": "nDAZ6Nu_Cc1_",
        "colab_type": "text"
      },
      "cell_type": "markdown",
      "source": [
        "## Training\n",
        "\n",
        "Trained 10 classifiers for 10 distinct digits (0-9).\n",
        "\n",
        "Learning rate = 0.1\n",
        "\n",
        "Iterations = 50000"
      ]
    },
    {
      "metadata": {
        "_uuid": "3eef953febd7301b59a211e5aa1c88c30fefc1d6",
        "scrolled": true,
        "id": "lDfiLOQdCc2B",
        "colab_type": "code",
        "colab": {}
      },
      "cell_type": "code",
      "source": [
        "def train_classifiers():\n",
        "    classifiers = []\n",
        "    for i in range(10):\n",
        "        print('Training for ',i)\n",
        "        train_X,train_labels = preprocess_input(i)\n",
        "        model = LogisticRegression(lr=0.1, num_iter=50000)\n",
        "        model.fit(train_X, train_labels)\n",
        "        classifiers.append(model)\n",
        "        filename = 'theta_'+str(i)\n",
        "        np.savetxt(filename,model.theta,delimiter=',')\n",
        "    return classifiers\n",
        "\n",
        "# classifiers = train_classifiers()\n",
        "    \n",
        "\n"
      ],
      "execution_count": 0,
      "outputs": []
    },
    {
      "metadata": {
        "_uuid": "d6bf6001429cddfa233cde4ba627547af0ed0aad",
        "id": "FRj5tOS5Cc2J",
        "colab_type": "text"
      },
      "cell_type": "markdown",
      "source": [
        "## Testing\n",
        "\n",
        "Preprocess test inputs (converted pixel values to binary and class labels to binary)\n",
        "\n",
        "Given an integer load the weights of coressponding classifier (e.g. for integer 1, load weights of classifier from file 'theta_1'). Compute H(X*THETA) where H is sigmoid function. Compare with threshold to decide final class (0 or 1)."
      ]
    },
    {
      "metadata": {
        "_uuid": "2057ac8779f1c9caec7d564b53c91b1418127f73",
        "id": "jFEDnek4Cc2L",
        "colab_type": "code",
        "colab": {},
        "outputId": "c497b170-16d8-4a5b-da2c-6022314796bc"
      },
      "cell_type": "code",
      "source": [
        "from sklearn.metrics import confusion_matrix\n",
        "from sklearn.metrics import accuracy_score\n",
        "from sklearn.metrics import f1_score\n",
        "def check_i(i,threshold):\n",
        "    weightfile = 'results/theta_'+str(i)\n",
        "    weights = np.loadtxt(weightfile,delimiter=',')\n",
        "    train_data = pd.read_csv('train.csv')\n",
        "    train_data.loc[train_data.label != i, 'label'] = -1\n",
        "    train_data.loc[train_data.label == i, 'label'] = -2\n",
        "    train_data.loc[train_data.label == -1, 'label'] = 0\n",
        "    train_data.loc[train_data.label == -2, 'label'] = 1\n",
        "    cols = list(train_data.columns)\n",
        "    cols.remove('label')\n",
        "    train_data = train_data.astype(bool).astype(int)\n",
        "    train_X = np.array(train_data[cols])\n",
        "    train_labels = train_data['label']\n",
        "    intercept = np.ones((train_X.shape[0], 1))\n",
        "    train_X = np.concatenate((intercept, train_X), axis=1)\n",
        "#     print(train_X[0])\n",
        "    result = (1 / (1 + np.exp(-(np.dot(train_X,weights)))) >= threshold)\n",
        "    print(accuracy_score(train_labels, result))\n",
        "    print('Confusion Matrix')\n",
        "    print(confusion_matrix(train_labels, result))\n",
        "    print('F1 Score')\n",
        "    print(f1_score(train_labels, result, average='weighted') )\n",
        "\n",
        "for i in range(10):\n",
        "    print('Accuracy for i = ',i,' with threshold = 0.5 :')\n",
        "    check_i(i,0.5)"
      ],
      "execution_count": 0,
      "outputs": [
        {
          "output_type": "stream",
          "text": [
            "Accuracy for i =  0  with threshold = 0.5 :\n",
            "0.9783333333333334\n",
            "Confusion Matrix\n",
            "[[36983   885]\n",
            " [   25  4107]]\n",
            "F1 Score\n",
            "0.9792300218596299\n",
            "Accuracy for i =  1  with threshold = 0.5 :\n",
            "0.980452380952381\n",
            "Confusion Matrix\n",
            "[[36525   791]\n",
            " [   30  4654]]\n",
            "F1 Score\n",
            "0.9810860079370226\n",
            "Accuracy for i =  2  with threshold = 0.5 :\n",
            "0.9468571428571428\n",
            "Confusion Matrix\n",
            "[[35787  2036]\n",
            " [  196  3981]]\n",
            "F1 Score\n",
            "0.9509908097767376\n",
            "Accuracy for i =  3  with threshold = 0.5 :\n",
            "0.9301190476190476\n",
            "Confusion Matrix\n",
            "[[34945  2704]\n",
            " [  231  4120]]\n",
            "F1 Score\n",
            "0.9366647761760928\n",
            "Accuracy for i =  4  with threshold = 0.5 :\n",
            "0.9591190476190476\n",
            "Confusion Matrix\n",
            "[[36288  1640]\n",
            " [   77  3995]]\n",
            "F1 Score\n",
            "0.9619802952753425\n",
            "Accuracy for i =  5  with threshold = 0.5 :\n",
            "0.9140952380952381\n",
            "Confusion Matrix\n",
            "[[34851  3354]\n",
            " [  254  3541]]\n",
            "F1 Score\n",
            "0.9247347345749259\n",
            "Accuracy for i =  6  with threshold = 0.5 :\n",
            "0.9700952380952381\n",
            "Confusion Matrix\n",
            "[[36659  1204]\n",
            " [   52  4085]]\n",
            "F1 Score\n",
            "0.971691665029103\n",
            "Accuracy for i =  7  with threshold = 0.5 :\n",
            "0.9637142857142857\n",
            "Confusion Matrix\n",
            "[[36169  1430]\n",
            " [   94  4307]]\n",
            "F1 Score\n",
            "0.9657770130218132\n",
            "Accuracy for i =  8  with threshold = 0.5 :\n",
            "0.923404761904762\n",
            "Confusion Matrix\n",
            "[[34936  3001]\n",
            " [  216  3847]]\n",
            "F1 Score\n",
            "0.9317208129643261\n",
            "Accuracy for i =  9  with threshold = 0.5 :\n",
            "0.9281904761904762\n",
            "Confusion Matrix\n",
            "[[34967  2845]\n",
            " [  171  4017]]\n",
            "F1 Score\n",
            "0.9355630058575864\n"
          ],
          "name": "stdout"
        }
      ]
    }
  ]
}