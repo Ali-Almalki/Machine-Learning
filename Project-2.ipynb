{
 "cells": [
  {
   "cell_type": "code",
   "execution_count": 2,
   "metadata": {
    "colab": {
     "base_uri": "https://localhost:8080/",
     "height": 560
    },
    "colab_type": "code",
    "id": "VqumrmCDSBHf",
    "outputId": "a038c852-8d75-433c-9154-fc5734108d9d"
   },
   "outputs": [
    {
     "name": "stdout",
     "output_type": "stream",
     "text": [
      "Training BCE Loss: 0.06469811056592871\n",
      "Training BCE Loss: 0.01722680934253354\n",
      "Training BCE Loss: 0.05743869821408633\n",
      "Training BCE Loss: 0.037647364767414475\n",
      "Training BCE Loss: 0.04305415707218236\n",
      "Training BCE Loss: 0.05252883892326364\n",
      "Training BCE Loss: 0.032508981309581644\n",
      "Training BCE Loss: 0.029290680663383487\n",
      "Training BCE Loss: 0.07015061841001971\n",
      "Training BCE Loss: 0.04363700074036109\n",
      "Test accuracy of the model is: 90.93%, ie 9093/10000\n"
     ]
    },
    {
     "data": {
      "image/png": "[encoded data removed]",
      "text/plain": [
       "<Figure size 432x288 with 1 Axes>"
      ]
     },
     "metadata": {
      "needs_background": "light"
     },
     "output_type": "display_data"
    },
    {
     "name": "stdout",
     "output_type": "stream",
     "text": [
      "Above image is predicted as 2, which True\n"
     ]
    }
   ],
   "source": [
    "from keras.datasets import mnist\n",
    "import matplotlib.pyplot as plt\n",
    "import numpy as np\n",
    "\n",
    "# TRAININF MODEL\n",
    "class train_model:\n",
    "    def __init__(self,X,y,bs,epoch):\n",
    "        self.X=X\n",
    "        self.y=y\n",
    "        self.epoch=epoch\n",
    "        self.bs=bs\n",
    "        self.SGD_MINI_BATCH()\n",
    "    \n",
    "    def sigmoid(self,z):\n",
    "        return 1 / (1 + np.exp(-z))\n",
    "  \n",
    "    def bce_loss(self,T, P):\n",
    "        return -(1./len(T)) * ( np.sum(np.log(P)*T ) + np.sum(np.log(1-P)*(1-T) ) )\n",
    "    \n",
    "    def SGD_MINI_BATCH(self):\n",
    "        learning_rate = 0.02\n",
    "        self.Weight = np.random.randn( self.X.shape[1],1) * 0.01\n",
    "        self.b = np.zeros((1, 1))\n",
    "        for i in range(self.epoch):\n",
    "            for j in range(0,self.X.shape[0],self.bs):\n",
    "                X_=self.X[j:j+self.bs]\n",
    "                y_=self.y[j:j+self.bs]\n",
    "                Z = np.dot(X_,self.Weight) + self.b\n",
    "                A = self.sigmoid(Z).T\n",
    "                self.loss = self.bce_loss(y_, A)\n",
    "                w_ = (-(1/self.bs)) * (np.dot(X_.T, (y_-A).T))\n",
    "                b_ = (-(1/self.bs)) * np.sum(y_-A)\n",
    "                self.Weight = self.Weight - learning_rate*w_\n",
    "                self.b = self.b - learning_rate*b_\n",
    "        print('Training BCE Loss: '+str(self.loss))\n",
    "\n",
    "# CALL FOR PREDICTION OF CLASS\n",
    "def predict(X,models):\n",
    "    pred=[]\n",
    "    for i in range(len(X)):\n",
    "        prob= []\n",
    "        for m in models:\n",
    "            z=np.dot(X[i],m.Weight)+m.b\n",
    "            p = 1 / (1 + np.exp(-z))\n",
    "            prob.append(p)\n",
    "        pred.append(np.argmax(prob))\n",
    "    return np.array(pred)\n",
    "\n",
    "def show_image(x):\n",
    "    image = x.reshape(28,28)\n",
    "    plt.imshow(image)\n",
    "    plt.axis(\"off\")\n",
    "    plt.show()\n",
    "\n",
    "# Load the training and test data using Keras, And Reshaping\n",
    "(train_images, train_y), (test_images, test_y) = mnist.load_data()\n",
    "train_X=train_images.reshape(-1, train_images.shape[1]*train_images.shape[2]).astype('float')\n",
    "train_X=train_X/255\n",
    "test_X=test_images.reshape(-1, test_images.shape[1]*test_images.shape[2]).astype('float')\n",
    "test_X=test_X/255\n",
    "\n",
    "# Labeling for Each classes (0 to 9) (Y is matrix and y is a vector)\n",
    "train_Y=np.zeros(shape=(10,len(train_y)), dtype='int')\n",
    "test_Y=np.zeros(shape=(10,len(test_y)), dtype='int')\n",
    "for j in range(len(train_y)):\n",
    "    train_Y[train_y[j]][j]=1\n",
    "for j in range(len(test_y)):\n",
    "    test_Y[test_y[j]][j]=1    \n",
    "\n",
    "# MODELING\n",
    "batch_size=50\n",
    "epoch=10\n",
    "model_0=train_model(train_X,train_Y[0],batch_size,epoch)\n",
    "model_1=train_model(train_X,train_Y[1],batch_size,epoch)\n",
    "model_2=train_model(train_X,train_Y[2],batch_size,epoch)\n",
    "model_3=train_model(train_X,train_Y[3],batch_size,epoch)\n",
    "model_4=train_model(train_X,train_Y[4],batch_size,epoch)\n",
    "model_5=train_model(train_X,train_Y[5],batch_size,epoch)\n",
    "model_6=train_model(train_X,train_Y[6],batch_size,epoch)\n",
    "model_7=train_model(train_X,train_Y[7],batch_size,epoch)\n",
    "model_8=train_model(train_X,train_Y[8],batch_size,epoch)\n",
    "model_9=train_model(train_X,train_Y[9],batch_size,epoch)\n",
    "models=[model_0,model_1,model_2,model_3,model_4,model_5,model_6,model_7,model_8,model_9]\n",
    "\n",
    "# Prediction and TESTING\n",
    "prediction=predict(test_X,models)\n",
    "print('Test accuracy of the model is: '+str(100*np.sum(prediction==test_y)/len(prediction))+'%, ie '+str(np.sum(prediction==test_y))+'/'+str(len(test_y)))\n",
    "\n",
    "# PLOTING \n",
    "rand_num = np.random.randint(0,len(test_y))\n",
    "show_image(test_X[rand_num])\n",
    "print('Above image is predicted as '+str(prediction[rand_num])+', which '+str(prediction[rand_num]==test_y[rand_num]) )\n"
   ]
  },
  {
   "cell_type": "code",
   "execution_count": null,
   "metadata": {},
   "outputs": [],
   "source": []
  }
 ],
 "metadata": {
  "accelerator": "GPU",
  "colab": {
   "name": "Untitled0.ipynb",
   "provenance": [],
   "version": "0.3.2"
  },
  "kernelspec": {
   "display_name": "Python 3",
   "language": "python",
   "name": "python3"
  },
  "language_info": {
   "codemirror_mode": {
    "name": "ipython",
    "version": 3
   },
   "file_extension": ".py",
   "mimetype": "text/x-python",
   "name": "python",
   "nbconvert_exporter": "python",
   "pygments_lexer": "ipython3",
   "version": "3.7.1"
  }
 },
 "nbformat": 4,
 "nbformat_minor": 1
}
