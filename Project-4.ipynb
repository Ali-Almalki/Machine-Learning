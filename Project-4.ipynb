{
 "cells": [
  {
   "cell_type": "code",
   "execution_count": 1,
   "metadata": {
    "colab": {
     "base_uri": "https://localhost:8080/",
     "height": 1434
    },
    "colab_type": "code",
    "id": "VqumrmCDSBHf",
    "outputId": "9387bb38-6173-4bcd-b481-d3f124a96c8f"
   },
   "outputs": [
    {
     "name": "stderr",
     "output_type": "stream",
     "text": [
      "Using TensorFlow backend.\n"
     ]
    },
    {
     "name": "stdout",
     "output_type": "stream",
     "text": [
      "WARNING:tensorflow:From /home/ali/anaconda3/lib/python3.7/site-packages/tensorflow/python/framework/op_def_library.py:263: colocate_with (from tensorflow.python.framework.ops) is deprecated and will be removed in a future version.\n",
      "Instructions for updating:\n",
      "Colocations handled automatically by placer.\n",
      "_________________________________________________________________\n",
      "Layer (type)                 Output Shape              Param #   \n",
      "=================================================================\n",
      "dense_1 (Dense)              (None, 10)                7850      \n",
      "=================================================================\n",
      "Total params: 7,850\n",
      "Trainable params: 7,850\n",
      "Non-trainable params: 0\n",
      "_________________________________________________________________\n",
      "WARNING:tensorflow:From /home/ali/anaconda3/lib/python3.7/site-packages/tensorflow/python/ops/math_ops.py:3066: to_int32 (from tensorflow.python.ops.math_ops) is deprecated and will be removed in a future version.\n",
      "Instructions for updating:\n",
      "Use tf.cast instead.\n",
      "Epoch 1/15\n",
      " - 6s - loss: 0.7708 - acc: 0.8307\n",
      "Epoch 2/15\n",
      " - 2s - loss: 0.4544 - acc: 0.8820\n",
      "Epoch 3/15\n",
      " - 2s - loss: 0.4022 - acc: 0.8924\n",
      "Epoch 4/15\n",
      " - 2s - loss: 0.3759 - acc: 0.8978\n",
      "Epoch 5/15\n",
      " - 2s - loss: 0.3595 - acc: 0.9015\n",
      "Epoch 6/15\n",
      " - 2s - loss: 0.3476 - acc: 0.9044\n",
      "Epoch 7/15\n",
      " - 2s - loss: 0.3387 - acc: 0.9061\n",
      "Epoch 8/15\n",
      " - 2s - loss: 0.3317 - acc: 0.9080\n",
      "Epoch 9/15\n",
      " - 2s - loss: 0.3257 - acc: 0.9096\n",
      "Epoch 10/15\n",
      " - 2s - loss: 0.3209 - acc: 0.9109\n",
      "Epoch 11/15\n",
      " - 2s - loss: 0.3168 - acc: 0.9120\n",
      "Epoch 12/15\n",
      " - 2s - loss: 0.3130 - acc: 0.9130\n",
      "Epoch 13/15\n",
      " - 2s - loss: 0.3099 - acc: 0.9140\n",
      "Epoch 14/15\n",
      " - 2s - loss: 0.3069 - acc: 0.9149\n",
      "Epoch 15/15\n",
      " - 2s - loss: 0.3044 - acc: 0.9153\n"
     ]
    },
    {
     "data": {
      "text/plain": [
       "<Figure size 640x480 with 1 Axes>"
      ]
     },
     "metadata": {},
     "output_type": "display_data"
    },
    {
     "name": "stdout",
     "output_type": "stream",
     "text": [
      "Test accuracy of the model is: 91.85%, ie 9185/10000\n"
     ]
    },
    {
     "data": {
      "text/plain": [
       "<Figure size 640x480 with 1 Axes>"
      ]
     },
     "metadata": {},
     "output_type": "display_data"
    },
    {
     "name": "stdout",
     "output_type": "stream",
     "text": [
      "Above image is predicted as 0, which is True\n"
     ]
    }
   ],
   "source": [
    "from keras.datasets import mnist\n",
    "import matplotlib.pyplot as plt\n",
    "import numpy as np\n",
    "from keras.layers import Dense\n",
    "from keras.models import Sequential\n",
    "\n",
    "def show_image(x):\n",
    "    image = x.reshape(28,28)\n",
    "    plt.imshow(image)\n",
    "    plt.axis(\"off\")\n",
    "    plt.show()\n",
    "    \n",
    "def plot_training_acc(acc):  # TO GENERATE EPOCH VS ACC PLOT\n",
    "    plt.plot(range(1,len(acc)+1), acc)\n",
    "    plt.xlabel(\"epoch\")\n",
    "    plt.ylabel(\"accuracy\")\n",
    "    plt.title('Training accuracy')\n",
    "    plt.show()\n",
    "\n",
    "# Load the training and test data using Keras, And Reshaping\n",
    "(train_images, train_y), (test_images, test_y) = mnist.load_data()\n",
    "train_X=train_images.reshape(-1, train_images.shape[1]*train_images.shape[2]).astype('float')\n",
    "train_X=train_X/255\n",
    "test_X=test_images.reshape(-1, test_images.shape[1]*test_images.shape[2]).astype('float')\n",
    "test_X=test_X/255\n",
    "\n",
    "# Labeling for Each classes (0 to 9) (Y is matrix and y is a vector)\n",
    "train_Y=np.zeros(shape=(10,len(train_y)), dtype='int')\n",
    "test_Y=np.zeros(shape=(10,len(test_y)), dtype='int')\n",
    "for j in range(len(train_y)):\n",
    "    train_Y[train_y[j]][j]=1\n",
    "for j in range(len(test_y)):\n",
    "    test_Y[test_y[j]][j]=1    \n",
    "\n",
    "# MODELING\n",
    "model = Sequential()\n",
    "model.add(Dense(train_Y.T.shape[1],input_shape=(train_X.shape[1],), use_bias=True,kernel_initializer='random_uniform', bias_initializer='random_uniform', activation='softmax'))\n",
    "model.compile(loss='categorical_crossentropy', optimizer='sgd',metrics=['accuracy'])\n",
    "model.summary()\n",
    "cache=model.fit(train_X, train_Y.T, epochs=15, verbose=2)\n",
    "plot_training_acc(cache.history['acc'])\n",
    "\n",
    "# Prediction and TESTING\n",
    "Prediction=model.predict(test_X) #matrix 10000*10\n",
    "prediction=np.argmax(Prediction,axis=1) # A vector 10000 \n",
    "print('Test accuracy of the model is: '+str(100*np.sum(prediction==test_y)/len(prediction))+'%, ie '+str(np.sum(prediction==test_y))+'/'+str(len(test_y)))\n",
    "\n",
    "# PLOTING \n",
    "rand_num = np.random.randint(0,len(test_y))\n",
    "show_image(test_X[rand_num])\n",
    "print('Above image is predicted as '+str(prediction[rand_num])+', which is '+str(prediction[rand_num]==test_y[rand_num]) )\n"
   ]
  },
  {
   "cell_type": "code",
   "execution_count": null,
   "metadata": {},
   "outputs": [],
   "source": []
  }
 ],
 "metadata": {
  "accelerator": "GPU",
  "colab": {
   "name": "Untitled0.ipynb",
   "provenance": [],
   "version": "0.3.2"
  },
  "kernelspec": {
   "display_name": "Python 3",
   "language": "python",
   "name": "python3"
  },
  "language_info": {
   "codemirror_mode": {
    "name": "ipython",
    "version": 3
   },
   "file_extension": ".py",
   "mimetype": "text/x-python",
   "name": "python",
   "nbconvert_exporter": "python",
   "pygments_lexer": "ipython3",
   "version": "3.7.1"
  }
 },
 "nbformat": 4,
 "nbformat_minor": 1
}
