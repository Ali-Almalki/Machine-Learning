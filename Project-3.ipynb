{
 "cells": [
  {
   "cell_type": "code",
   "execution_count": 8,
   "metadata": {
    "colab": {
     "base_uri": "https://localhost:8080/",
     "height": 1096
    },
    "colab_type": "code",
    "id": "VqumrmCDSBHf",
    "outputId": "66299fce-1bab-4ffd-929b-746660600950"
   },
   "outputs": [
    {
     "name": "stdout",
     "output_type": "stream",
     "text": [
      "Training Loss at epoch=1/20: 0.02035404285519196\n",
      "Training Loss at epoch=2/20: 0.015189391687980159\n",
      "Training Loss at epoch=3/20: 0.013069350064768084\n",
      "Training Loss at epoch=4/20: 0.011886642580084296\n",
      "Training Loss at epoch=5/20: 0.011118565192700384\n",
      "Training Loss at epoch=6/20: 0.010572467368954366\n",
      "Training Loss at epoch=7/20: 0.010160249607551733\n",
      "Training Loss at epoch=8/20: 0.009835613331597628\n",
      "Training Loss at epoch=9/20: 0.009571757688580398\n",
      "Training Loss at epoch=10/20: 0.00935202940010758\n",
      "Training Loss at epoch=11/20: 0.009165504028094181\n",
      "Training Loss at epoch=12/20: 0.009004699506082951\n",
      "Training Loss at epoch=13/20: 0.008864306658314938\n",
      "Training Loss at epoch=14/20: 0.008740443974984073\n",
      "Training Loss at epoch=15/20: 0.00863020003120403\n",
      "Training Loss at epoch=16/20: 0.00853134189280304\n",
      "Training Loss at epoch=17/20: 0.008442123344648448\n",
      "Training Loss at epoch=18/20: 0.008361155257183837\n",
      "Training Loss at epoch=19/20: 0.008287315792209681\n",
      "Training Loss at epoch=20/20: 0.008219686822442117\n"
     ]
    },
    {
     "data": {
      "image/png": "[encoded data removed]",
      "text/plain": [
       "<Figure size 576x396 with 1 Axes>"
      ]
     },
     "metadata": {
      "tags": []
     },
     "output_type": "display_data"
    },
    {
     "name": "stdout",
     "output_type": "stream",
     "text": [
      "Test accuracy of the model is: 91.44%, ie 9144/10000\n"
     ]
    },
    {
     "data": {
      "image/png": "[encoded data removed]",
      "text/plain": [
       "<Figure size 576x396 with 1 Axes>"
      ]
     },
     "metadata": {
      "tags": []
     },
     "output_type": "display_data"
    },
    {
     "name": "stdout",
     "output_type": "stream",
     "text": [
      "Above image is predicted as 7, which is True\n"
     ]
    }
   ],
   "source": [
    "from keras.datasets import mnist\n",
    "import matplotlib.pyplot as plt\n",
    "import numpy as np\n",
    "\n",
    "# TRAININF MODEL\n",
    "class train_model:\n",
    "    def __init__(self,X,Y,bs,epoch):\n",
    "        self.X=X\n",
    "        self.Y=Y\n",
    "        self.epoch=epoch\n",
    "        self.bs=bs\n",
    "        self.SGD_MINI_BATCH()\n",
    "    \n",
    "    def sigmoid(self,z):\n",
    "        return 1 / (1 + np.exp(-z))\n",
    "  \n",
    "    def mse_loss(self,T, P):\n",
    "        return np.square(T-P).mean()\n",
    "    \n",
    "    def plot_losses(self,losses):  # TO GENERATE EPOCH VS LOSS PLOT\n",
    "        plt.plot(range(1,len(losses)+1), losses)\n",
    "        plt.xlabel(\"epoch\")\n",
    "        plt.ylabel(\"loss (mse)\")\n",
    "        plt.title('Training losses')\n",
    "        plt.show()\n",
    "    \n",
    "    def SGD_MINI_BATCH(self):\n",
    "        learning_rate = 0.02\n",
    "        self.Weight = np.random.randn(self.Y.shape[1], self.X.shape[1]) * 0.01\n",
    "        self.b = np.zeros((self.Y.shape[1], 1))\n",
    "        losses=[]\n",
    "        for i in range(self.epoch):\n",
    "            for j in range(0,self.X.shape[0],self.bs):\n",
    "                X_=self.X[j:j+self.bs]\n",
    "                Y_=self.Y[j:j+self.bs]\n",
    "                Z = np.dot(self.Weight,X_.T) + self.b\n",
    "                A = self.sigmoid(Z)\n",
    "                w_ =(1/self.bs)*np.dot((A - Y_.T),X_)\n",
    "                b_ = (1/self.bs)* np.sum(A - Y_.T,axis=1,keepdims=True)\n",
    "                self.loss = self.mse_loss(A.T,Y_)\n",
    "                self.Weight = self.Weight - learning_rate*w_\n",
    "                self.b = self.b - learning_rate*b_\n",
    "            losses.append(self.loss)\n",
    "            print('Training Loss at epoch='+str(i+1)+'/'+str(self.epoch)+': '+str(self.loss))\n",
    "        self.plot_losses(losses)\n",
    "\n",
    "# CALL FOR PREDICTION OF CLASS\n",
    "def predict(X,m):\n",
    "    pred=[]\n",
    "    for i in range(len(X)):\n",
    "        z=np.dot(X[i],m.Weight.T)+m.b.flatten()\n",
    "        prob = 1 / (1 + np.exp(-z))\n",
    "        pred.append(np.argmax(prob))\n",
    "    return np.array(pred)\n",
    "\n",
    "def show_image(x):\n",
    "    image = x.reshape(28,28)\n",
    "    plt.imshow(image)\n",
    "    plt.axis(\"off\")\n",
    "    plt.show()\n",
    "\n",
    "# Load the training and test data using Keras, And Reshaping\n",
    "(train_images, train_y), (test_images, test_y) = mnist.load_data()\n",
    "train_X=train_images.reshape(-1, train_images.shape[1]*train_images.shape[2]).astype('float')\n",
    "train_X=train_X/255\n",
    "test_X=test_images.reshape(-1, test_images.shape[1]*test_images.shape[2]).astype('float')\n",
    "test_X=test_X/255\n",
    "\n",
    "# Labeling for Each classes (0 to 9) (Y is matrix and y is a vector)\n",
    "train_Y=np.zeros(shape=(10,len(train_y)), dtype='int')\n",
    "test_Y=np.zeros(shape=(10,len(test_y)), dtype='int')\n",
    "for j in range(len(train_y)):\n",
    "    train_Y[train_y[j]][j]=1\n",
    "for j in range(len(test_y)):\n",
    "    test_Y[test_y[j]][j]=1    \n",
    "\n",
    "# MODELING\n",
    "batch_size=50\n",
    "epoch=20\n",
    "model=train_model(train_X,train_Y.T,batch_size,epoch)\n",
    "\n",
    "# Prediction and TESTING\n",
    "prediction=predict(test_X,model)\n",
    "print('Test accuracy of the model is: '+str(100*np.sum(prediction==test_y)/len(prediction))+'%, ie '+str(np.sum(prediction==test_y))+'/'+str(len(test_y)))\n",
    "\n",
    "# PLOTING \n",
    "rand_num = np.random.randint(0,len(test_y))\n",
    "show_image(test_X[rand_num])\n",
    "print('Above image is predicted as '+str(prediction[rand_num])+', which is '+str(prediction[rand_num]==test_y[rand_num]) )\n"
   ]
  }
 ],
 "metadata": {
  "accelerator": "GPU",
  "colab": {
   "name": "Untitled0.ipynb",
   "provenance": [],
   "version": "0.3.2"
  },
  "kernelspec": {
   "display_name": "Python 3",
   "language": "python",
   "name": "python3"
  },
  "language_info": {
   "codemirror_mode": {
    "name": "ipython",
    "version": 3
   },
   "file_extension": ".py",
   "mimetype": "text/x-python",
   "name": "python",
   "nbconvert_exporter": "python",
   "pygments_lexer": "ipython3",
   "version": "3.7.1"
  }
 },
 "nbformat": 4,
 "nbformat_minor": 1
}
